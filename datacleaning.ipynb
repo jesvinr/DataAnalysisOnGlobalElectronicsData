{
 "cells": [
  {
   "cell_type": "code",
   "execution_count": 4,
   "metadata": {},
   "outputs": [],
   "source": [
    "import pandas as pd\n",
    "from datetime import datetime"
   ]
  },
  {
   "cell_type": "code",
   "execution_count": 2,
   "metadata": {},
   "outputs": [
    {
     "name": "stdout",
     "output_type": "stream",
     "text": [
      "(15266, 10)\n",
      "<class 'pandas.core.frame.DataFrame'>\n",
      "RangeIndex: 15266 entries, 0 to 15265\n",
      "Data columns (total 10 columns):\n",
      " #   Column       Non-Null Count  Dtype \n",
      "---  ------       --------------  ----- \n",
      " 0   CustomerKey  15266 non-null  int64 \n",
      " 1   Gender       15266 non-null  object\n",
      " 2   Name         15266 non-null  object\n",
      " 3   City         15266 non-null  object\n",
      " 4   State Code   15256 non-null  object\n",
      " 5   State        15266 non-null  object\n",
      " 6   Zip Code     15266 non-null  object\n",
      " 7   Country      15266 non-null  object\n",
      " 8   Continent    15266 non-null  object\n",
      " 9   Birthday     15266 non-null  object\n",
      "dtypes: int64(1), object(9)\n",
      "memory usage: 1.2+ MB\n",
      "None\n",
      "   CustomerKey  Gender               Name            City State Code  \\\n",
      "0          301  Female      Lilly Harding  WANDEARAH EAST         SA   \n",
      "1          325  Female       Madison Hull      MOUNT BUDD         WA   \n",
      "2          554  Female      Claire Ferres       WINJALLOK        VIC   \n",
      "3          786    Male  Jai Poltpalingada    MIDDLE RIVER         SA   \n",
      "4         1042    Male    Aidan Pankhurst   TAWONGA SOUTH        VIC   \n",
      "\n",
      "               State Zip Code    Country  Continent    Birthday  \n",
      "0    South Australia     5523  Australia  Australia    7/3/1939  \n",
      "1  Western Australia     6522  Australia  Australia   9/27/1979  \n",
      "2           Victoria     3380  Australia  Australia   5/26/1947  \n",
      "3    South Australia     5223  Australia  Australia   9/17/1957  \n",
      "4           Victoria     3698  Australia  Australia  11/19/1965  \n"
     ]
    }
   ],
   "source": [
    "# checking customer data\n",
    "customer = pd.read_csv(\"D:\\\\python\\\\VsCodePythonWorkplace\\\\project_global_electronics\\\\Datasets\\\\Customers.csv\", encoding='latin1')\n",
    "print(customer.shape)\n",
    "print(customer.info())\n",
    "print(customer.head())"
   ]
  },
  {
   "cell_type": "code",
   "execution_count": 3,
   "metadata": {},
   "outputs": [
    {
     "name": "stdout",
     "output_type": "stream",
     "text": [
      "   CustomerKey  Gender               Name            City State Code  \\\n",
      "0          301  Female      Lilly Harding  wandearah east         SA   \n",
      "1          325  Female       Madison Hull      mount budd         WA   \n",
      "2          554  Female      Claire Ferres       winjallok        VIC   \n",
      "3          786    Male  Jai Poltpalingada    middle river         SA   \n",
      "4         1042    Male    Aidan Pankhurst   tawonga south        VIC   \n",
      "\n",
      "               State Zip Code    Country  Continent   Birthday  \n",
      "0    South Australia     5523  Australia  Australia 1939-07-03  \n",
      "1  Western Australia     6522  Australia  Australia 1979-09-27  \n",
      "2           Victoria     3380  Australia  Australia 1947-05-26  \n",
      "3    South Australia     5223  Australia  Australia 1957-09-17  \n",
      "4           Victoria     3698  Australia  Australia 1965-11-19  \n",
      "CustomerKey             int64\n",
      "Gender                 object\n",
      "Name                   object\n",
      "City                   object\n",
      "State Code             object\n",
      "State                  object\n",
      "Zip Code               object\n",
      "Country                object\n",
      "Continent              object\n",
      "Birthday       datetime64[ns]\n",
      "dtype: object\n"
     ]
    }
   ],
   "source": [
    "# EDA for customer\n",
    "customer[\"City\"] = customer[\"City\"].str.lower() \n",
    "customer[\"Birthday\"] = pd.to_datetime(customer[\"Birthday\"], format=\"%m/%d/%Y\")\n",
    "\n",
    "\n",
    "# # converting into required type\n",
    "# customer[\"Gender\"] = customer[\"Gender\"].astype(\"string\")\n",
    "# customer[\"Name\"] = customer[\"Name\"].astype('string')\n",
    "# customer[\"City\"] = customer[\"City\"].astype('string')\n",
    "# customer[\"State Code\"] = customer[\"State Code\"].astype('string')\n",
    "# customer[\"State\"] = customer[\"State\"].astype('string')\n",
    "# customer[\"Zip Code\"] = customer[\"Zip Code\"].astype('string')\n",
    "# customer[\"Country\"] = customer[\"Country\"].astype('string')\n",
    "# customer[\"Continent\"] = customer[\"Continent\"].astype('string')\n",
    "# #customer[\"Birthday\"] = customer[\"Birthday\"].astype('datetime')\n",
    "# customer[\"City\"] = customer[\"City\"].astype('string')\n",
    "print(customer.head())\n",
    "print(customer.dtypes)"
   ]
  },
  {
   "cell_type": "code",
   "execution_count": 4,
   "metadata": {},
   "outputs": [
    {
     "name": "stdout",
     "output_type": "stream",
     "text": [
      "<class 'pandas.core.frame.DataFrame'>\n",
      "RangeIndex: 11215 entries, 0 to 11214\n",
      "Data columns (total 3 columns):\n",
      " #   Column    Non-Null Count  Dtype  \n",
      "---  ------    --------------  -----  \n",
      " 0   Date      11215 non-null  object \n",
      " 1   Currency  11215 non-null  object \n",
      " 2   Exchange  11215 non-null  float64\n",
      "dtypes: float64(1), object(2)\n",
      "memory usage: 263.0+ KB\n",
      "None\n",
      "(11215, 3)\n",
      "       Date Currency  Exchange\n",
      "0  1/1/2015      USD    1.0000\n",
      "1  1/1/2015      CAD    1.1583\n",
      "2  1/1/2015      AUD    1.2214\n",
      "3  1/1/2015      EUR    0.8237\n",
      "4  1/1/2015      GBP    0.6415\n"
     ]
    }
   ],
   "source": [
    "# Exchange_rate\n",
    "ex_rate = pd.read_csv(\"D:\\\\python\\\\VsCodePythonWorkplace\\\\project_global_electronics\\\\Datasets\\\\Exchange_Rates.csv\", encoding='latin1')\n",
    "print(ex_rate.info())\n",
    "print(ex_rate.shape)\n",
    "print(ex_rate.head())"
   ]
  },
  {
   "cell_type": "code",
   "execution_count": 5,
   "metadata": {},
   "outputs": [
    {
     "name": "stdout",
     "output_type": "stream",
     "text": [
      "        Date Currency  Exchange\n",
      "0 2015-01-01      USD    1.0000\n",
      "1 2015-01-01      CAD    1.1583\n",
      "2 2015-01-01      AUD    1.2214\n",
      "3 2015-01-01      EUR    0.8237\n",
      "4 2015-01-01      GBP    0.6415\n"
     ]
    }
   ],
   "source": [
    "# EDA for exchange rates\n",
    "ex_rate[\"Date\"] = pd.to_datetime(ex_rate[\"Date\"], format=\"%m/%d/%Y\")\n",
    "print(ex_rate.head())"
   ]
  },
  {
   "cell_type": "code",
   "execution_count": 6,
   "metadata": {},
   "outputs": [
    {
     "name": "stdout",
     "output_type": "stream",
     "text": [
      "(2517, 10)\n",
      "<class 'pandas.core.frame.DataFrame'>\n",
      "RangeIndex: 2517 entries, 0 to 2516\n",
      "Data columns (total 10 columns):\n",
      " #   Column          Non-Null Count  Dtype \n",
      "---  ------          --------------  ----- \n",
      " 0   ProductKey      2517 non-null   int64 \n",
      " 1   Product Name    2517 non-null   object\n",
      " 2   Brand           2517 non-null   object\n",
      " 3   Color           2517 non-null   object\n",
      " 4   Unit Cost USD   2517 non-null   object\n",
      " 5   Unit Price USD  2517 non-null   object\n",
      " 6   SubcategoryKey  2517 non-null   int64 \n",
      " 7   Subcategory     2517 non-null   object\n",
      " 8   CategoryKey     2517 non-null   int64 \n",
      " 9   Category        2517 non-null   object\n",
      "dtypes: int64(3), object(7)\n",
      "memory usage: 196.8+ KB\n",
      "None\n",
      "   ProductKey                         Product Name    Brand   Color  \\\n",
      "0           1  Contoso 512MB MP3 Player E51 Silver  Contoso  Silver   \n",
      "1           2    Contoso 512MB MP3 Player E51 Blue  Contoso    Blue   \n",
      "2           3     Contoso 1G MP3 Player E100 White  Contoso   White   \n",
      "3           4    Contoso 2G MP3 Player E200 Silver  Contoso  Silver   \n",
      "4           5       Contoso 2G MP3 Player E200 Red  Contoso     Red   \n",
      "\n",
      "  Unit Cost USD Unit Price USD  SubcategoryKey Subcategory  CategoryKey  \\\n",
      "0        $6.62         $12.99              101     MP4&MP3            1   \n",
      "1        $6.62         $12.99              101     MP4&MP3            1   \n",
      "2        $7.40         $14.52              101     MP4&MP3            1   \n",
      "3       $11.00         $21.57              101     MP4&MP3            1   \n",
      "4       $11.00         $21.57              101     MP4&MP3            1   \n",
      "\n",
      "  Category  \n",
      "0    Audio  \n",
      "1    Audio  \n",
      "2    Audio  \n",
      "3    Audio  \n",
      "4    Audio  \n"
     ]
    }
   ],
   "source": [
    "product = pd.read_csv(\"D:\\\\python\\\\VsCodePythonWorkplace\\\\project_global_electronics\\\\Datasets\\\\Products.csv\", encoding='latin1')\n",
    "print(product.shape)\n",
    "print(product.info())\n",
    "print(product.head())\n"
   ]
  },
  {
   "cell_type": "code",
   "execution_count": 7,
   "metadata": {},
   "outputs": [
    {
     "name": "stdout",
     "output_type": "stream",
     "text": [
      "   ProductKey                         Product Name    Brand   Color  \\\n",
      "0           1  Contoso 512MB MP3 Player E51 Silver  Contoso  Silver   \n",
      "1           2    Contoso 512MB MP3 Player E51 Blue  Contoso    Blue   \n",
      "2           3     Contoso 1G MP3 Player E100 White  Contoso   White   \n",
      "3           4    Contoso 2G MP3 Player E200 Silver  Contoso  Silver   \n",
      "4           5       Contoso 2G MP3 Player E200 Red  Contoso     Red   \n",
      "5           6     Contoso 2G MP3 Player E200 Black  Contoso   Black   \n",
      "6           7      Contoso 2G MP3 Player E200 Blue  Contoso    Blue   \n",
      "7           8    Contoso 4G MP3 Player E400 Silver  Contoso  Silver   \n",
      "8           9     Contoso 4G MP3 Player E400 Black  Contoso   Black   \n",
      "9          10     Contoso 4G MP3 Player E400 Green  Contoso   Green   \n",
      "\n",
      "   Unit Cost USD  Unit Price USD  SubcategoryKey Subcategory  CategoryKey  \\\n",
      "0           6.62           12.99             101     MP4&MP3            1   \n",
      "1           6.62           12.99             101     MP4&MP3            1   \n",
      "2           7.40           14.52             101     MP4&MP3            1   \n",
      "3          11.00           21.57             101     MP4&MP3            1   \n",
      "4          11.00           21.57             101     MP4&MP3            1   \n",
      "5          11.00           21.57             101     MP4&MP3            1   \n",
      "6          11.00           21.57             101     MP4&MP3            1   \n",
      "7          30.58           59.99             101     MP4&MP3            1   \n",
      "8          30.58           59.99             101     MP4&MP3            1   \n",
      "9          30.58           59.99             101     MP4&MP3            1   \n",
      "\n",
      "  Category  \n",
      "0    Audio  \n",
      "1    Audio  \n",
      "2    Audio  \n",
      "3    Audio  \n",
      "4    Audio  \n",
      "5    Audio  \n",
      "6    Audio  \n",
      "7    Audio  \n",
      "8    Audio  \n",
      "9    Audio  \n"
     ]
    }
   ],
   "source": [
    "# EDA in product\n",
    "# Assuming 'product_cost_price' and 'product_selling_price' have dollar signs or other non-numeric characters\n",
    "\n",
    "# Clean the price columns by removing dollar signs and converting to float\n",
    "product['Unit Cost USD'] = product['Unit Cost USD'].replace({r'[^\\d.]': ''}, regex=True).astype('float')\n",
    "product['Unit Price USD'] = product['Unit Price USD'].replace({r'[^\\d.]': ''}, regex=True).astype('float')\n",
    "print(product.head(10))\n"
   ]
  },
  {
   "cell_type": "code",
   "execution_count": 8,
   "metadata": {},
   "outputs": [
    {
     "name": "stdout",
     "output_type": "stream",
     "text": [
      "(62884, 9)\n",
      "<class 'pandas.core.frame.DataFrame'>\n",
      "RangeIndex: 62884 entries, 0 to 62883\n",
      "Data columns (total 9 columns):\n",
      " #   Column         Non-Null Count  Dtype \n",
      "---  ------         --------------  ----- \n",
      " 0   Order Number   62884 non-null  int64 \n",
      " 1   Line Item      62884 non-null  int64 \n",
      " 2   Order Date     62884 non-null  object\n",
      " 3   Delivery Date  13165 non-null  object\n",
      " 4   CustomerKey    62884 non-null  int64 \n",
      " 5   StoreKey       62884 non-null  int64 \n",
      " 6   ProductKey     62884 non-null  int64 \n",
      " 7   Quantity       62884 non-null  int64 \n",
      " 8   Currency Code  62884 non-null  object\n",
      "dtypes: int64(6), object(3)\n",
      "memory usage: 4.3+ MB\n",
      "None\n",
      "   Order Number  Line Item Order Date Delivery Date  CustomerKey  StoreKey  \\\n",
      "0        366000          1   1/1/2016           NaN       265598        10   \n",
      "1        366001          1   1/1/2016     1/13/2016      1269051         0   \n",
      "2        366001          2   1/1/2016     1/13/2016      1269051         0   \n",
      "3        366002          1   1/1/2016     1/12/2016       266019         0   \n",
      "4        366002          2   1/1/2016     1/12/2016       266019         0   \n",
      "\n",
      "   ProductKey  Quantity Currency Code  \n",
      "0        1304         1           CAD  \n",
      "1        1048         2           USD  \n",
      "2        2007         1           USD  \n",
      "3        1106         7           CAD  \n",
      "4         373         1           CAD  \n"
     ]
    }
   ],
   "source": [
    "sales = pd.read_csv(\"D:\\\\python\\\\VsCodePythonWorkplace\\\\project_global_electronics\\\\Datasets\\\\Sales.csv\", encoding='latin1')\n",
    "print(sales.shape)\n",
    "print(sales.info())\n",
    "print(sales.head())"
   ]
  },
  {
   "cell_type": "code",
   "execution_count": 9,
   "metadata": {},
   "outputs": [],
   "source": [
    "# removing NAN in delivery date\n",
    "\n",
    "# find avg days to deviler product\n",
    "sales[\"Order Date\"] = pd.to_datetime(sales[\"Order Date\"], format=\"%m/%d/%Y\")\n",
    "sales[\"Delivery Date\"] = pd.to_datetime(sales[\"Delivery Date\"], format=\"%m/%d/%Y\")\n",
    "# sales.head()"
   ]
  },
  {
   "cell_type": "code",
   "execution_count": 10,
   "metadata": {},
   "outputs": [
    {
     "data": {
      "text/plain": [
       "Order Number         0\n",
       "Line Item            0\n",
       "Order Date           0\n",
       "Delivery Date    49719\n",
       "CustomerKey          0\n",
       "StoreKey             0\n",
       "ProductKey           0\n",
       "Quantity             0\n",
       "Currency Code        0\n",
       "dtype: int64"
      ]
     },
     "execution_count": 10,
     "metadata": {},
     "output_type": "execute_result"
    }
   ],
   "source": [
    "sales.isnull().sum()"
   ]
  },
  {
   "cell_type": "code",
   "execution_count": 11,
   "metadata": {},
   "outputs": [
    {
     "name": "stdout",
     "output_type": "stream",
     "text": [
      "5\n",
      "   Order Number  Line Item Order Date Delivery Date  CustomerKey  StoreKey  \\\n",
      "0        366000          1 2016-01-01    2016-01-06       265598        10   \n",
      "1        366001          1 2016-01-01    2016-01-13      1269051         0   \n",
      "2        366001          2 2016-01-01    2016-01-13      1269051         0   \n",
      "3        366002          1 2016-01-01    2016-01-12       266019         0   \n",
      "4        366002          2 2016-01-01    2016-01-12       266019         0   \n",
      "\n",
      "   ProductKey  Quantity Currency Code  \n",
      "0        1304         1           CAD  \n",
      "1        1048         2           USD  \n",
      "2        2007         1           USD  \n",
      "3        1106         7           CAD  \n",
      "4         373         1           CAD  \n"
     ]
    }
   ],
   "source": [
    "# Calculate the difference between known delivery dates and order dates\n",
    "sales['date_diff'] = (sales[\"Delivery Date\"] - sales[\"Order Date\"]).dt.days\n",
    "\n",
    "# Calculate the average difference (timedelta)\n",
    "average_diff = int(round(sales['date_diff'].mean()))\n",
    "\n",
    "print(average_diff)\n",
    "# Fill missing delivery dates with orderdate + average_diff\n",
    "sales[\"Delivery Date\"] = sales[\"Delivery Date\"].fillna(sales[\"Order Date\"] + pd.to_timedelta(average_diff, unit='D'))\n",
    "\n",
    "# Drop the temporary 'date_diff' column\n",
    "sales.drop(columns=['date_diff'], inplace=True)\n",
    "sales.isnull().sum()\n",
    "# print(sales.head())"
   ]
  },
  {
   "cell_type": "code",
   "execution_count": 12,
   "metadata": {},
   "outputs": [],
   "source": [
    "# Checking and cleaning stores\n",
    "stores = pd.read_csv(\"D:\\\\python\\\\VsCodePythonWorkplace\\\\project_global_electronics\\\\Datasets\\\\Stores.csv\", encoding='latin1')\n",
    "# print(stores.shape)\n",
    "# print(stores.info())\n",
    "# print(stores.head())"
   ]
  },
  {
   "cell_type": "code",
   "execution_count": 13,
   "metadata": {},
   "outputs": [],
   "source": [
    "# converting date number into date format\n",
    "stores[\"Open Date\"] = pd.to_datetime(stores[\"Open Date\"], format=\"%m/%d/%Y\")"
   ]
  },
  {
   "cell_type": "code",
   "execution_count": 14,
   "metadata": {},
   "outputs": [],
   "source": [
    "# Merging customer, product, sales data and store data\n",
    "\n",
    "merge_data =  pd.merge(product, sales, on='ProductKey')\n",
    "merge_data = pd.merge(merge_data, customer, on='CustomerKey')\n",
    "# merge_data = pd.merge(merge_data, stores, on=\"StoreKey\")\n",
    "# print(merge_data.head())\n",
    "# print(merge_data.shape)\n",
    "# print(merge_data.info())"
   ]
  },
  {
   "cell_type": "code",
   "execution_count": 17,
   "metadata": {},
   "outputs": [
    {
     "data": {
      "text/plain": [
       "ProductKey         2492\n",
       "Product Name       2492\n",
       "Brand                11\n",
       "Color                16\n",
       "Unit Cost USD       480\n",
       "Unit Price USD      426\n",
       "SubcategoryKey       32\n",
       "Subcategory          32\n",
       "CategoryKey           8\n",
       "Category              8\n",
       "Order Number      26326\n",
       "Line Item             7\n",
       "Order Date         1641\n",
       "Delivery Date      1681\n",
       "CustomerKey       11887\n",
       "StoreKey             58\n",
       "Quantity             10\n",
       "Currency Code         5\n",
       "Gender                2\n",
       "Name              11782\n",
       "City               6570\n",
       "State Code          448\n",
       "State               491\n",
       "Zip Code           7771\n",
       "Country               8\n",
       "Continent             3\n",
       "Birthday           9382\n",
       "dtype: int64"
      ]
     },
     "execution_count": 17,
     "metadata": {},
     "output_type": "execute_result"
    }
   ],
   "source": []
  },
  {
   "cell_type": "code",
   "execution_count": 15,
   "metadata": {},
   "outputs": [
    {
     "name": "stdout",
     "output_type": "stream",
     "text": [
      "Product Name\n",
      "A. Datum Advanced Digital Camera M300 Azure                       11\n",
      "A. Datum Advanced Digital Camera M300 Black                       10\n",
      "A. Datum Advanced Digital Camera M300 Green                       14\n",
      "A. Datum Advanced Digital Camera M300 Grey                        17\n",
      "A. Datum Advanced Digital Camera M300 Orange                      15\n",
      "                                                                ... \n",
      "WWI Wireless Transmitter and Bluetooth Headphones X250 Black      81\n",
      "WWI Wireless Transmitter and Bluetooth Headphones X250 Blue       73\n",
      "WWI Wireless Transmitter and Bluetooth Headphones X250 Red       105\n",
      "WWI Wireless Transmitter and Bluetooth Headphones X250 Silver     82\n",
      "WWI Wireless Transmitter and Bluetooth Headphones X250 White      88\n",
      "Name: Product Name, Length: 2492, dtype: int64\n"
     ]
    }
   ],
   "source": [
    "gd = merge_data.groupby(merge_data[\"Product Name\"])\n",
    "print(gd[\"Product Name\"].count())"
   ]
  },
  {
   "cell_type": "code",
   "execution_count": 16,
   "metadata": {},
   "outputs": [],
   "source": [
    "# SQL stroing in DB\n",
    "\n",
    "import mysql.connector as sconn\n",
    "from mysql.connector import Error\n",
    "\n",
    "\n",
    "# connection\n",
    "def configuration():\n",
    "    # configure the sql connector \n",
    "    try:\n",
    "        config = {\n",
    "            \"user\":\"root\",\n",
    "            \"password\":\"root\",\n",
    "            \"host\":\"localhost\",\n",
    "            \"database\":\"global_electronics\"\n",
    "        }\n",
    "        print(\"Configuration completed\")\n",
    "        return config\n",
    "    \n",
    "    except Error as e:\n",
    "        print(\"Error occurred during configuration:\",e)\n",
    "\n",
    "def connection():\n",
    "    # configure the connection between python and mysql\n",
    "    try:\n",
    "        config=configuration()\n",
    "        if config is None:\n",
    "            return None\n",
    "        conn=sconn.connect(**config)\n",
    "\n",
    "        if conn.is_connected():\n",
    "            print(\"connection completed\")\n",
    "        return conn\n",
    "    \n",
    "    except Error as e:\n",
    "        print(\"Error occurred when open connection:\",e)\n",
    "\n",
    "def drop_table(conn,query_drop):\n",
    "    # this function will drop the table\n",
    "    c=conn.cursor()\n",
    "    try:\n",
    "        c.execute(query_drop)\n",
    "        print(\"Table dropped successfully\")\n",
    "    \n",
    "    except Error as e:\n",
    "        print(\"Error occurred when dropping data\",e)\n",
    "\n",
    "def create_table(conn,query_create):\n",
    "    #this function will create the table\n",
    "    c=conn.cursor()\n",
    "    try:\n",
    "        c.execute(query_create)\n",
    "        print(\"Table Created\")\n",
    "        pass\n",
    "\n",
    "    except Error as e:\n",
    "        print(\"Error occurred when creating table\",e)\n",
    "\n",
    "def insert_data_to_table(conn,value, query):\n",
    "    cursor = conn.cursor()\n",
    "    \n",
    "    for index, row in value.iterrows():\n",
    "        # Construct the SQL INSERT query dynamically\n",
    "        \n",
    "        \n",
    "        values = tuple(row)\n",
    "        \n",
    "        try:\n",
    "            # Execute the query\n",
    "            cursor.execute(query, values)\n",
    "            conn.commit()\n",
    "            print(f\"Row {index + 1} inserted successfully\")\n",
    "        except Error as err:\n",
    "            print(f\"Error: {err}\")\n",
    "            conn.rollback()\n",
    "\n",
    "def close_connection(conn):\n",
    "    #this function will close the connection\n",
    "    try:\n",
    "        conn.close()\n",
    "        print(\"connection closed successfully\")\n",
    "    except Error as e:\n",
    "        print('Error occurred when closing the connection: ',e)  \n"
   ]
  },
  {
   "cell_type": "code",
   "execution_count": 19,
   "metadata": {},
   "outputs": [
    {
     "name": "stdout",
     "output_type": "stream",
     "text": [
      "Configuration completed\n",
      "connection completed\n",
      "Table dropped successfully\n"
     ]
    }
   ],
   "source": [
    "conn=connection()\n",
    "\n",
    "# if the table already exists drop it to avoid the append of datas --------------------------------\n",
    "# table names:\n",
    "# product_sales_table\n",
    "# exchange_rate_table\n",
    "# store_table\n",
    "# drop_table(conn,\"drop table if exists sales_table\")\n",
    "# drop_table(conn,\"drop table if exists exchange_rate_table\")\n",
    "# drop_table(conn,\"drop table if exists store_table\")"
   ]
  },
  {
   "cell_type": "code",
   "execution_count": 22,
   "metadata": {},
   "outputs": [],
   "source": [
    "# creating table\n",
    "\n",
    "# Ordernumber is unique after combining 3 tables [customer, product, sales]\n",
    "createProductSalesTable = \"\"\"\n",
    "create table if not exists sales_table (\n",
    "product_key int,\n",
    "product_name varchar(100),\n",
    "product_brand varchar(100),\n",
    "product_color varchar(20),\n",
    "product_cost_price decimal(10, 2),\n",
    "product_selling_price decimal(10, 2),\n",
    "product_subcategorykey int,\n",
    "product_subcategory varchar(100),\n",
    "product_categoryKey int,\n",
    "product_category varchar(100),\n",
    "sales_ordernumber int,\n",
    "sales_lineitem int,\n",
    "sales_orderdate date,\n",
    "sales_deliverydate date,\n",
    "sales_customer_key int,\n",
    "sales_storekey int,\n",
    "sales_quantity int,\n",
    "sales_currencycode char(3),\n",
    "customer_gender varchar(10),\n",
    "customer_name varchar(50),\n",
    "customer_city varchar(100),\n",
    "customer_state_code varchar(100),\n",
    "customer_state varchar(100),\n",
    "customer_zipcode varchar(10),\n",
    "customer_country varchar(50),\n",
    "customer_continent varchar(50),\n",
    "customer_birthday date,\n",
    "primary key(sales_ordernumber, sales_lineitem)\n",
    ")\n",
    "\"\"\"\n",
    "\n",
    "createExchangeRateTable = \"\"\"\n",
    "create table if not exists exchange_rate_table (\n",
    "id int primary key auto_increment,\n",
    "exchange_date date,\n",
    "exchange_currency char(3),\n",
    "exchange_rate float\n",
    ")\n",
    "\"\"\"\n",
    "\n",
    "createStoreTable = \"\"\"\n",
    "create table if not exists store_table (\n",
    "storekey int primary key,\n",
    "store_country varchar(100),\n",
    "store_state varchar(100),\n",
    "store_area int,\n",
    "store_open_date date\n",
    ")\n",
    "\"\"\""
   ]
  },
  {
   "cell_type": "code",
   "execution_count": 23,
   "metadata": {},
   "outputs": [
    {
     "name": "stdout",
     "output_type": "stream",
     "text": [
      "Table Created\n"
     ]
    }
   ],
   "source": [
    "# creating table\n",
    "# create_table(conn, createProductSalesTable)\n",
    "#create_table(conn, createExchangeRateTable)\n",
    "# create_table(conn, createStoreTable)"
   ]
  },
  {
   "cell_type": "code",
   "execution_count": null,
   "metadata": {},
   "outputs": [],
   "source": [
    "# inserting query data into table\n",
    "\n",
    "insertSalesQuery = \"\"\"\n",
    "        INSERT INTO sales_table (\n",
    "            product_key, product_name, product_brand, product_color, \n",
    "            product_cost_price, product_selling_price, product_subcategorykey, product_subcategory, \n",
    "            product_categoryKey, product_category, sales_ordernumber, sales_lineitem, \n",
    "            sales_orderdate, sales_deliverydate, sales_customer_key, sales_storekey, sales_quantity, \n",
    "            sales_currencycode, customer_gender, customer_name, \n",
    "            customer_city, customer_state_code, customer_state, customer_zipcode, \n",
    "            customer_country, customer_continent, customer_birthday\n",
    "        )  VALUES (%s, %s, %s, %s, %s, %s, %s, %s, %s, %s, %s, %s, %s, %s, %s, %s, %s, %s, %s, %s, %s, %s, %s, %s, %s, %s, %s);\n",
    "        \"\"\"\n",
    "\n",
    "insertExchangeQuery = \"\"\"\n",
    "        INSERT INTO exchange_rate_table (\n",
    "            exchange_date, exchange_currency, exchange_rate\n",
    "        ) VALUES (%s, %s, %s);\n",
    "\"\"\"\n",
    "\n",
    "insertStoreQuery = \"\"\"\n",
    "        INSERT INTO store_table(\n",
    "            storekey, store_country, store_state, store_area, store_open_date\n",
    "        ) VALUES (%s, %s, %s, %s, %s);\n",
    "\"\"\"\n",
    "# insert_data_to_table(conn,merge_data, insertSalesQuery)\n",
    "#insert_data_to_table(conn,ex_rate, insertExchangeQuery)\n",
    "#insert_data_to_table(conn,stores, insertStoreQuery)\n",
    "#print(merge_data[\"Order Number\"].nunique())\n",
    "#print(stores.head())"
   ]
  },
  {
   "cell_type": "code",
   "execution_count": 25,
   "metadata": {},
   "outputs": [],
   "source": [
    "merge_data.to_csv(\"D:\\\\python\\\\VsCodePythonWorkplace\\\\project_global_electronics\\\\resultentDataset\\\\product_sales.csv\", index=True, mode = 'w')"
   ]
  },
  {
   "cell_type": "code",
   "execution_count": 26,
   "metadata": {},
   "outputs": [],
   "source": [
    "ex_rate.to_csv(\"D:\\\\python\\\\VsCodePythonWorkplace\\\\project_global_electronics\\\\resultentDataset\\\\exchange_rate.csv\",\n",
    "               index=True, mode = 'w' )"
   ]
  },
  {
   "cell_type": "code",
   "execution_count": 27,
   "metadata": {},
   "outputs": [],
   "source": [
    "stores.to_csv(\"D:\\\\python\\\\VsCodePythonWorkplace\\\\project_global_electronics\\\\resultentDataset\\\\stores_data.csv\",\n",
    "               index=True, mode = 'w')"
   ]
  }
 ],
 "metadata": {
  "kernelspec": {
   "display_name": "Python 3",
   "language": "python",
   "name": "python3"
  },
  "language_info": {
   "codemirror_mode": {
    "name": "ipython",
    "version": 3
   },
   "file_extension": ".py",
   "mimetype": "text/x-python",
   "name": "python",
   "nbconvert_exporter": "python",
   "pygments_lexer": "ipython3",
   "version": "3.12.0"
  }
 },
 "nbformat": 4,
 "nbformat_minor": 2
}
